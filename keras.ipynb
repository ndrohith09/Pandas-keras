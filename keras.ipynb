{
 "metadata": {
  "language_info": {
   "codemirror_mode": {
    "name": "ipython",
    "version": 3
   },
   "file_extension": ".py",
   "mimetype": "text/x-python",
   "name": "python",
   "nbconvert_exporter": "python",
   "pygments_lexer": "ipython3",
   "version": "3.9.0"
  },
  "orig_nbformat": 2,
  "kernelspec": {
   "name": "python390jvsc74a57bd0c4615647f9402c6bd01f2327076601e0f0f11d2bfa542bb807a3159d77fdb5a5",
   "display_name": "Python 3.9.0 64-bit"
  },
  "metadata": {
   "interpreter": {
    "hash": "c4615647f9402c6bd01f2327076601e0f0f11d2bfa542bb807a3159d77fdb5a5"
   }
  }
 },
 "nbformat": 4,
 "nbformat_minor": 2,
 "cells": [
  {
   "cell_type": "code",
   "execution_count": 2,
   "metadata": {},
   "outputs": [],
   "source": [
    "from __future__ import absolute_import\n",
    "from __future__ import division\n",
    "from __future__ import print_function"
   ]
  },
  {
   "cell_type": "code",
   "execution_count": 3,
   "metadata": {},
   "outputs": [
    {
     "output_type": "stream",
     "name": "stdout",
     "text": [
      "Tensorfloe version 2.5.0-rc1\n"
     ]
    }
   ],
   "source": [
    "import itertools\n",
    "import os\n",
    "import math\n",
    "import numpy as np \n",
    "import pandas as pd\n",
    "import tensorflow as tf \n",
    "\n",
    "from sklearn.preprocessing import LabelEncoder\n",
    "from tensorflow import keras\n",
    "layers = keras.layers \n",
    "print(\"Tensorfloe version\" , tf.__version__)"
   ]
  },
  {
   "cell_type": "code",
   "execution_count": 7,
   "metadata": {},
   "outputs": [],
   "source": [
    "data = pd.read_csv('food_coded.csv')"
   ]
  },
  {
   "cell_type": "code",
   "execution_count": 8,
   "metadata": {},
   "outputs": [
    {
     "output_type": "execute_result",
     "data": {
      "text/plain": [
       "     1  14.23  1.71  2.43  15.6  127   2.8  3.06   .28  2.29  5.64  1.04  \\\n",
       "87   2  11.64  2.06  2.46  21.6   84  1.95  1.69  0.48  1.35  2.80  1.00   \n",
       "142  3  13.62  4.95  2.35  20.0   92  2.00  0.80  0.47  1.02  4.40  0.91   \n",
       "96   2  12.29  1.41  1.98  16.0   85  2.55  2.50  0.29  1.77  2.90  1.23   \n",
       "44   1  14.21  4.04  2.44  18.9  111  2.85  2.65  0.30  1.25  5.24  0.87   \n",
       "48   1  13.94  1.73  2.27  17.4  108  2.88  3.54  0.32  2.08  8.90  1.12   \n",
       "\n",
       "     3.92  1065  \n",
       "87   2.75   680  \n",
       "142  2.05   550  \n",
       "96   2.74   428  \n",
       "44   3.33  1080  \n",
       "48   3.10  1260  "
      ],
      "text/html": "<div>\n<style scoped>\n    .dataframe tbody tr th:only-of-type {\n        vertical-align: middle;\n    }\n\n    .dataframe tbody tr th {\n        vertical-align: top;\n    }\n\n    .dataframe thead th {\n        text-align: right;\n    }\n</style>\n<table border=\"1\" class=\"dataframe\">\n  <thead>\n    <tr style=\"text-align: right;\">\n      <th></th>\n      <th>1</th>\n      <th>14.23</th>\n      <th>1.71</th>\n      <th>2.43</th>\n      <th>15.6</th>\n      <th>127</th>\n      <th>2.8</th>\n      <th>3.06</th>\n      <th>.28</th>\n      <th>2.29</th>\n      <th>5.64</th>\n      <th>1.04</th>\n      <th>3.92</th>\n      <th>1065</th>\n    </tr>\n  </thead>\n  <tbody>\n    <tr>\n      <th>87</th>\n      <td>2</td>\n      <td>11.64</td>\n      <td>2.06</td>\n      <td>2.46</td>\n      <td>21.6</td>\n      <td>84</td>\n      <td>1.95</td>\n      <td>1.69</td>\n      <td>0.48</td>\n      <td>1.35</td>\n      <td>2.80</td>\n      <td>1.00</td>\n      <td>2.75</td>\n      <td>680</td>\n    </tr>\n    <tr>\n      <th>142</th>\n      <td>3</td>\n      <td>13.62</td>\n      <td>4.95</td>\n      <td>2.35</td>\n      <td>20.0</td>\n      <td>92</td>\n      <td>2.00</td>\n      <td>0.80</td>\n      <td>0.47</td>\n      <td>1.02</td>\n      <td>4.40</td>\n      <td>0.91</td>\n      <td>2.05</td>\n      <td>550</td>\n    </tr>\n    <tr>\n      <th>96</th>\n      <td>2</td>\n      <td>12.29</td>\n      <td>1.41</td>\n      <td>1.98</td>\n      <td>16.0</td>\n      <td>85</td>\n      <td>2.55</td>\n      <td>2.50</td>\n      <td>0.29</td>\n      <td>1.77</td>\n      <td>2.90</td>\n      <td>1.23</td>\n      <td>2.74</td>\n      <td>428</td>\n    </tr>\n    <tr>\n      <th>44</th>\n      <td>1</td>\n      <td>14.21</td>\n      <td>4.04</td>\n      <td>2.44</td>\n      <td>18.9</td>\n      <td>111</td>\n      <td>2.85</td>\n      <td>2.65</td>\n      <td>0.30</td>\n      <td>1.25</td>\n      <td>5.24</td>\n      <td>0.87</td>\n      <td>3.33</td>\n      <td>1080</td>\n    </tr>\n    <tr>\n      <th>48</th>\n      <td>1</td>\n      <td>13.94</td>\n      <td>1.73</td>\n      <td>2.27</td>\n      <td>17.4</td>\n      <td>108</td>\n      <td>2.88</td>\n      <td>3.54</td>\n      <td>0.32</td>\n      <td>2.08</td>\n      <td>8.90</td>\n      <td>1.12</td>\n      <td>3.10</td>\n      <td>1260</td>\n    </tr>\n  </tbody>\n</table>\n</div>"
     },
     "metadata": {},
     "execution_count": 8
    }
   ],
   "source": [
    "data = data.sample(frac= 1)\n",
    "data.head()"
   ]
  },
  {
   "cell_type": "code",
   "execution_count": null,
   "metadata": {},
   "outputs": [],
   "source": [
    "data = data[pd.notnull(data['calories_chicken'])]\n",
    "data = data[pd.notnull(data['GPA'])]\n",
    "data = data.drop(data.column[0], axis=1)\n",
    "variety_threshold"
   ]
  }
 ]
}